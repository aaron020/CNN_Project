{
  "nbformat": 4,
  "nbformat_minor": 0,
  "metadata": {
    "colab": {
      "provenance": [],
      "collapsed_sections": [],
      "authorship_tag": "ABX9TyN8lvGlVvwhh0PN5yDuAxxw",
      "include_colab_link": true
    },
    "kernelspec": {
      "name": "python3",
      "display_name": "Python 3"
    },
    "language_info": {
      "name": "python"
    },
    "accelerator": "GPU"
  },
  "cells": [
    {
      "cell_type": "markdown",
      "metadata": {
        "id": "view-in-github",
        "colab_type": "text"
      },
      "source": [
        "<a href=\"https://colab.research.google.com/github/aaron020/CNN_Project/blob/main/ResNet50.ipynb\" target=\"_parent\"><img src=\"https://colab.research.google.com/assets/colab-badge.svg\" alt=\"Open In Colab\"/></a>"
      ]
    },
    {
      "cell_type": "code",
      "source": [
        "#https://github.com/pythonlessons/Keras-ResNet-tutorial/blob/master/Keras-ResNet-tutorial.ipynb\n",
        "\n",
        "import os\n",
        "os.environ['CUDA_VISIBLE_DEVICES'] = '0'\n",
        "import cv2\n",
        "import numpy as np\n",
        "from keras import layers\n",
        "from keras.layers import Input, Add, Dense, Activation, ZeroPadding2D, BatchNormalization, Flatten, Conv2D, AveragePooling2D, MaxPooling2D\n",
        "from keras.models import Model, load_model\n",
        "from keras.initializers import glorot_uniform\n",
        "from keras.utils import plot_model\n",
        "from IPython.display import SVG\n",
        "from keras.utils.vis_utils import model_to_dot\n",
        "from matplotlib import pyplot as plt\n",
        "import keras.backend as K\n",
        "import tensorflow as tf"
      ],
      "metadata": {
        "id": "Eq_jFvBM4Lbc"
      },
      "execution_count": 20,
      "outputs": []
    },
    {
      "cell_type": "code",
      "source": [
        "#Rows and cols = the size of the image, channels = RGB and classes is dog and cat \n",
        "ROWS = 224\n",
        "COLS = 224\n",
        "CHANNELS = 3\n",
        "CLASSES = 2"
      ],
      "metadata": {
        "id": "bXooYRdIEZnr"
      },
      "execution_count": 21,
      "outputs": []
    },
    {
      "cell_type": "code",
      "source": [
        "#!unzip dog_cat.zip"
      ],
      "metadata": {
        "id": "80NYzp_0IxY5"
      },
      "execution_count": 22,
      "outputs": []
    },
    {
      "cell_type": "code",
      "source": [
        "#pull in a dataset from content \n",
        "pathNameTraining = \"dog_cat/training_set/training_set\"\n",
        "pathNameTest = \"dog_cat/test_set/test_set\"\n",
        "\n",
        "#!unzip archive.zip\n",
        "Training_types = os.listdir(pathNameTraining)\n",
        "test_types = os.listdir(pathNameTest)\n",
        "\n",
        "print(\"Training folders = \" , Training_types)\n",
        "print(\"Test folders = \" , test_types)"
      ],
      "metadata": {
        "colab": {
          "base_uri": "https://localhost:8080/"
        },
        "id": "gcO8XIsu0ion",
        "outputId": "18a7460c-bf0a-412e-9787-d1087bdec933"
      },
      "execution_count": 23,
      "outputs": [
        {
          "output_type": "stream",
          "name": "stdout",
          "text": [
            "Training folders =  ['dogs', 'cats']\n",
            "Test folders =  ['dogs', 'cats']\n"
          ]
        }
      ]
    },
    {
      "cell_type": "code",
      "source": [
        "\n",
        "def read_image(file_path):\n",
        "    #Read in the image, in colour \n",
        "    img = cv2.imread(file_path, cv2.IMREAD_COLOR)\n",
        "    #Return the image, resized to be 224 x 224   \n",
        "    return cv2.resize(img, (ROWS, COLS), interpolation=cv2.INTER_CUBIC)\n",
        "\n",
        "def prepare_data(images):\n",
        "    m = len(images)\n",
        "    X = np.zeros((m, ROWS, COLS, CHANNELS), dtype=np.uint8)\n",
        "    y = np.zeros((1, m), dtype=np.uint8)\n",
        "    for i, image_file in enumerate(images):\n",
        "        X[i,:] = read_image(image_file)\n",
        "        if 'dogs' in image_file.lower():\n",
        "            y[0, i] = 1\n",
        "        elif 'cats' in image_file.lower():\n",
        "            y[0, i] = 0\n",
        "    return X, y\n",
        "\n",
        "def convert_to_one_hot(Y, C):\n",
        "    Y = np.eye(C)[Y.reshape(-1)].T\n",
        "    return Y\n",
        "\n"
      ],
      "metadata": {
        "id": "rciMLsMBEiZa"
      },
      "execution_count": 24,
      "outputs": []
    },
    {
      "cell_type": "code",
      "source": [
        "#Tack all the data from the datset \n",
        "TRAIN_DIR = []\n",
        "TEST_DIR = []\n",
        "\n",
        "for item in Training_types:\n",
        "  # get all the files from each folder \n",
        "  all_training = os.listdir(pathNameTraining + '/' + item)\n",
        "  #Half the dataset due to ram problems\n",
        "  for fw in range(0,1000):\n",
        "    #Some of the training set is not jpg which causes errors for the resize\n",
        "    if 'jpg' in all_training[fw]:\n",
        "      name = pathNameTraining + '/' + item + '/' + all_training[fw]\n",
        "      TRAIN_DIR.append(name)\n",
        "\n",
        "\n",
        "for item in test_types:\n",
        "  # get all the files from each folder \n",
        "  all_test = os.listdir(pathNameTest + '/' + item)\n",
        "  #Half the dataset due to ram problems\n",
        "  for fw in range(0,500):\n",
        "    if 'jpg' in all_test[fw]:\n",
        "      name = pathNameTest + '/' + item + '/' + all_test[fw]\n",
        "      TEST_DIR.append(name)\n",
        "\n",
        "\n",
        "print(len(TRAIN_DIR))\n",
        "print(len(TEST_DIR))\n"
      ],
      "metadata": {
        "colab": {
          "base_uri": "https://localhost:8080/"
        },
        "id": "mMKj3rlS5eOQ",
        "outputId": "bfcc0515-e698-4d19-a23b-e216f3200e1c"
      },
      "execution_count": 25,
      "outputs": [
        {
          "output_type": "stream",
          "name": "stdout",
          "text": [
            "1998\n",
            "998\n"
          ]
        }
      ]
    },
    {
      "cell_type": "code",
      "source": [
        "train_set_x, train_set_y = prepare_data(TRAIN_DIR)\n",
        "test_set_x, test_set_y = prepare_data(TEST_DIR)\n",
        "\n",
        "X_train = train_set_x/255\n",
        "X_test = test_set_x/255\n",
        "\n",
        "Y_train = convert_to_one_hot(train_set_y, CLASSES).T\n",
        "Y_test = convert_to_one_hot(test_set_y, CLASSES).T"
      ],
      "metadata": {
        "id": "NMRl_F2jE3Qf"
      },
      "execution_count": 26,
      "outputs": []
    },
    {
      "cell_type": "code",
      "source": [
        "print(len(train_set_y[0]))"
      ],
      "metadata": {
        "colab": {
          "base_uri": "https://localhost:8080/"
        },
        "id": "XzjSLZ-YWTzT",
        "outputId": "41c96096-0967-49d8-fbcd-5247422fa3cb"
      },
      "execution_count": 27,
      "outputs": [
        {
          "output_type": "stream",
          "name": "stdout",
          "text": [
            "1998\n"
          ]
        }
      ]
    },
    {
      "cell_type": "code",
      "source": [
        "print (\"number of training examples =\", X_train.shape[0])\n",
        "print (\"number of test examples =\", X_test.shape[0])\n",
        "print (\"X_train shape:\", X_train.shape)\n",
        "print (\"Y_train shape:\", Y_train.shape)\n",
        "print (\"X_test shape:\", X_test.shape)\n",
        "print (\"Y_test shape:\", Y_test.shape)"
      ],
      "metadata": {
        "colab": {
          "base_uri": "https://localhost:8080/"
        },
        "id": "zZi8W3C3NdmL",
        "outputId": "c34b7141-0269-462c-b6fe-1a30516bd269"
      },
      "execution_count": 28,
      "outputs": [
        {
          "output_type": "stream",
          "name": "stdout",
          "text": [
            "number of training examples = 1998\n",
            "number of test examples = 998\n",
            "X_train shape: (1998, 224, 224, 3)\n",
            "Y_train shape: (1998, 2)\n",
            "X_test shape: (998, 224, 224, 3)\n",
            "Y_test shape: (998, 2)\n"
          ]
        }
      ]
    },
    {
      "cell_type": "code",
      "source": [
        "def identity_block(X, f, filters, stage, block):\n",
        "    # defining name basis\n",
        "    conv_name_base = 'res' + str(stage) + block + '_branch'\n",
        "    bn_name_base = 'bn' + str(stage) + block + '_branch'\n",
        "\n",
        "    # Retrieve Filters\n",
        "    F1, F2, F3 = filters\n",
        "\n",
        "    # Save the input value. We'll need this later to add back to the main path. \n",
        "    X_shortcut = X\n",
        "\n",
        "    # First component of main path\n",
        "    X = Conv2D(filters = F1, kernel_size = (1, 1), strides = (1,1), padding = 'valid', name = conv_name_base + '2a', kernel_initializer = glorot_uniform(seed=0))(X)\n",
        "    X = BatchNormalization(axis = 3, name = bn_name_base + '2a')(X)\n",
        "    X = Activation('relu')(X)\n",
        "\n",
        "    # Second component of main path\n",
        "    X = Conv2D(filters = F2, kernel_size = (f, f), strides = (1,1), padding = 'same', name = conv_name_base + '2b', kernel_initializer = glorot_uniform(seed=0))(X)\n",
        "    X = BatchNormalization(axis = 3, name = bn_name_base + '2b')(X)\n",
        "    X = Activation('relu')(X)\n",
        "\n",
        "    # Third component of main path\n",
        "    X = Conv2D(filters = F3, kernel_size = (1, 1), strides = (1,1), padding = 'valid', name = conv_name_base + '2c', kernel_initializer = glorot_uniform(seed=0))(X)\n",
        "    X = BatchNormalization(axis = 3, name = bn_name_base + '2c')(X)\n",
        "\n",
        "    # Final step: Add shortcut value to main path, and pass it through a RELU activation\n",
        "    X = Add()([X, X_shortcut])\n",
        "    X = Activation('relu')(X)\n",
        "\n",
        "    return X"
      ],
      "metadata": {
        "id": "MXopuwDiNnrq"
      },
      "execution_count": 29,
      "outputs": []
    },
    {
      "cell_type": "code",
      "source": [
        "def convolutional_block(X, f, filters, stage, block, s = 2):\n",
        "    # defining name basis\n",
        "    conv_name_base = 'res' + str(stage) + block + '_branch'\n",
        "    bn_name_base = 'bn' + str(stage) + block + '_branch'\n",
        "    \n",
        "    # Retrieve Filters\n",
        "    F1, F2, F3 = filters\n",
        "    \n",
        "    # Save the input value\n",
        "    X_shortcut = X\n",
        "\n",
        "\n",
        "    ##### MAIN PATH #####\n",
        "    # First component of main path \n",
        "    X = Conv2D(F1, (1, 1), strides = (s,s), name = conv_name_base + '2a', kernel_initializer = glorot_uniform(seed=0))(X)\n",
        "    X = BatchNormalization(axis = 3, name = bn_name_base + '2a')(X)\n",
        "    X = Activation('relu')(X)\n",
        "\n",
        "    # Second component of main path\n",
        "    X = Conv2D(filters=F2, kernel_size=(f, f), strides=(1, 1), padding='same', name=conv_name_base + '2b', kernel_initializer=glorot_uniform(seed=0))(X)\n",
        "    X = BatchNormalization(axis=3, name=bn_name_base + '2b')(X)\n",
        "    X = Activation('relu')(X)\n",
        "\n",
        "    # Third component of main path\n",
        "    X = Conv2D(filters=F3, kernel_size=(1, 1), strides=(1, 1), padding='valid', name=conv_name_base + '2c', kernel_initializer=glorot_uniform(seed=0))(X)\n",
        "    X = BatchNormalization(axis=3, name=bn_name_base + '2c')(X)\n",
        "\n",
        "    \n",
        "    ##### SHORTCUT PATH ####\n",
        "    X_shortcut = Conv2D(F3, (1, 1), strides = (s,s), name = conv_name_base + '1', kernel_initializer = glorot_uniform(seed=0))(X_shortcut)\n",
        "    X_shortcut = BatchNormalization(axis = 3, name = bn_name_base + '1')(X_shortcut)\n",
        "\n",
        "    # Final step: Add shortcut value to main path, and pass it through a RELU activation\n",
        "    X = Add()([X, X_shortcut])\n",
        "    X = Activation('relu')(X)\n",
        "    \n",
        "    return X"
      ],
      "metadata": {
        "id": "s7wtYBxfNtct"
      },
      "execution_count": 30,
      "outputs": []
    },
    {
      "cell_type": "code",
      "source": [
        "def ResNet50(input_shape = (224, 224, 3), classes = 2):   \n",
        "    # Define the input as a tensor with shape input_shape\n",
        "    X_input = Input(input_shape)\n",
        "\n",
        "    # Zero-Padding\n",
        "    X = ZeroPadding2D((3, 3))(X_input)\n",
        "    \n",
        "    # Stage 1\n",
        "    X = Conv2D(64, (7, 7), strides = (2, 2), name = 'conv1', kernel_initializer = glorot_uniform(seed=0))(X)\n",
        "    X = BatchNormalization(axis = 3, name = 'bn_conv1')(X)\n",
        "    X = Activation('relu')(X)\n",
        "    X = MaxPooling2D((3, 3), strides=(2, 2))(X)\n",
        "\n",
        "    # Stage 2\n",
        "    X = convolutional_block(X, f = 3, filters = [64, 64, 256], stage = 2, block='a', s = 1)\n",
        "    X = identity_block(X, 3, [64, 64, 256], stage=2, block='b')\n",
        "    X = identity_block(X, 3, [64, 64, 256], stage=2, block='c')\n",
        "\n",
        "    # Stage 3\n",
        "    X = convolutional_block(X, f = 3, filters = [128, 128, 512], stage = 3, block='a', s = 2)\n",
        "    X = identity_block(X, 3, [128, 128, 512], stage=3, block='b')\n",
        "    X = identity_block(X, 3, [128, 128, 512], stage=3, block='c')\n",
        "    X = identity_block(X, 3, [128, 128, 512], stage=3, block='d')\n",
        "\n",
        "    # Stage 4\n",
        "    X = convolutional_block(X, f = 3, filters = [256, 256, 1024], stage = 4, block='a', s = 2)\n",
        "    X = identity_block(X, 3, [256, 256, 1024], stage=4, block='b')\n",
        "    X = identity_block(X, 3, [256, 256, 1024], stage=4, block='c')\n",
        "    X = identity_block(X, 3, [256, 256, 1024], stage=4, block='d')\n",
        "    X = identity_block(X, 3, [256, 256, 1024], stage=4, block='e')\n",
        "    X = identity_block(X, 3, [256, 256, 1024], stage=4, block='f')\n",
        "\n",
        "    # Stage 5\n",
        "    X = convolutional_block(X, f = 3, filters = [512, 512, 2048], stage = 5, block='a', s = 2)\n",
        "    X = identity_block(X, 3, [512, 512, 2048], stage=5, block='b')\n",
        "    X = identity_block(X, 3, [512, 512, 2048], stage=5, block='c')\n",
        "\n",
        "    # AVGPOOL.\n",
        "    X = AveragePooling2D((2, 2), name='avg_pool')(X)\n",
        "\n",
        "    # output layer\n",
        "    X = Flatten()(X)\n",
        "    X = Dense(classes, activation='softmax', name='fc' + str(classes), kernel_initializer = glorot_uniform(seed=0))(X)\n",
        "    \n",
        "    # Create model\n",
        "    model = Model(inputs = X_input, outputs = X, name='ResNet50')\n",
        "\n",
        "    return model\n",
        "\n"
      ],
      "metadata": {
        "id": "ivb2pGCyNzWP"
      },
      "execution_count": 31,
      "outputs": []
    },
    {
      "cell_type": "code",
      "source": [
        "model = ResNet50(input_shape = (ROWS, COLS, CHANNELS), classes = CLASSES)"
      ],
      "metadata": {
        "id": "VoJuNZxON5Hj"
      },
      "execution_count": 32,
      "outputs": []
    },
    {
      "cell_type": "code",
      "source": [
        "model.compile(optimizer='adam', loss='categorical_crossentropy', metrics=['accuracy'])"
      ],
      "metadata": {
        "id": "JBiCTNLAN7eL"
      },
      "execution_count": 33,
      "outputs": []
    },
    {
      "cell_type": "code",
      "source": [
        "#For example: validation_split=0.3 will cause that 30% of the training data will be used for validation.\n",
        "history = model.fit(X_train, Y_train, epochs = 50, validation_split=0.2,batch_size = 32)"
      ],
      "metadata": {
        "id": "N1FRPDXjN9YY",
        "colab": {
          "base_uri": "https://localhost:8080/"
        },
        "outputId": "dc094215-d487-414c-9cc8-a60186a5bb85"
      },
      "execution_count": 34,
      "outputs": [
        {
          "output_type": "stream",
          "name": "stdout",
          "text": [
            "Epoch 1/50\n",
            "50/50 [==============================] - 27s 437ms/step - loss: 2.9370 - accuracy: 0.5175 - val_loss: 0.1279 - val_accuracy: 0.9400\n",
            "Epoch 2/50\n",
            "50/50 [==============================] - 19s 378ms/step - loss: 1.3618 - accuracy: 0.5814 - val_loss: 0.8657 - val_accuracy: 0.0000e+00\n",
            "Epoch 3/50\n",
            "50/50 [==============================] - 18s 367ms/step - loss: 1.3804 - accuracy: 0.5726 - val_loss: 38.5885 - val_accuracy: 0.5750\n",
            "Epoch 4/50\n",
            "50/50 [==============================] - 18s 359ms/step - loss: 1.2999 - accuracy: 0.5451 - val_loss: 14.5135 - val_accuracy: 0.5275\n",
            "Epoch 5/50\n",
            "50/50 [==============================] - 18s 361ms/step - loss: 0.8088 - accuracy: 0.6170 - val_loss: 0.6337 - val_accuracy: 0.6975\n",
            "Epoch 6/50\n",
            "50/50 [==============================] - 18s 367ms/step - loss: 0.6997 - accuracy: 0.6239 - val_loss: 0.5538 - val_accuracy: 0.8500\n",
            "Epoch 7/50\n",
            "50/50 [==============================] - 18s 368ms/step - loss: 0.6497 - accuracy: 0.6564 - val_loss: 2.3103 - val_accuracy: 0.1900\n",
            "Epoch 8/50\n",
            "50/50 [==============================] - 18s 364ms/step - loss: 0.6028 - accuracy: 0.6715 - val_loss: 0.7754 - val_accuracy: 0.6025\n",
            "Epoch 9/50\n",
            "50/50 [==============================] - 18s 363ms/step - loss: 0.6179 - accuracy: 0.6652 - val_loss: 0.5976 - val_accuracy: 0.7375\n",
            "Epoch 10/50\n",
            "50/50 [==============================] - 18s 365ms/step - loss: 0.6267 - accuracy: 0.6589 - val_loss: 0.9752 - val_accuracy: 0.2825\n",
            "Epoch 11/50\n",
            "50/50 [==============================] - 18s 365ms/step - loss: 0.7694 - accuracy: 0.6345 - val_loss: 0.9596 - val_accuracy: 0.2150\n",
            "Epoch 12/50\n",
            "50/50 [==============================] - 18s 364ms/step - loss: 0.6639 - accuracy: 0.6389 - val_loss: 2.0815 - val_accuracy: 0.2175\n",
            "Epoch 13/50\n",
            "50/50 [==============================] - 18s 364ms/step - loss: 0.6209 - accuracy: 0.6702 - val_loss: 2.6323 - val_accuracy: 0.2100\n",
            "Epoch 14/50\n",
            "50/50 [==============================] - 18s 364ms/step - loss: 0.5828 - accuracy: 0.6952 - val_loss: 1.0624 - val_accuracy: 0.3775\n",
            "Epoch 15/50\n",
            "50/50 [==============================] - 18s 365ms/step - loss: 0.5619 - accuracy: 0.6946 - val_loss: 0.7157 - val_accuracy: 0.6200\n",
            "Epoch 16/50\n",
            "50/50 [==============================] - 18s 364ms/step - loss: 0.5188 - accuracy: 0.7328 - val_loss: 0.8296 - val_accuracy: 0.5300\n",
            "Epoch 17/50\n",
            "50/50 [==============================] - 18s 364ms/step - loss: 0.5224 - accuracy: 0.7509 - val_loss: 0.9137 - val_accuracy: 0.4925\n",
            "Epoch 18/50\n",
            "50/50 [==============================] - 18s 364ms/step - loss: 0.4596 - accuracy: 0.7885 - val_loss: 1.0952 - val_accuracy: 0.3925\n",
            "Epoch 19/50\n",
            "50/50 [==============================] - 18s 365ms/step - loss: 0.4203 - accuracy: 0.8085 - val_loss: 1.2587 - val_accuracy: 0.3400\n",
            "Epoch 20/50\n",
            "50/50 [==============================] - 18s 364ms/step - loss: 0.4293 - accuracy: 0.8116 - val_loss: 0.8769 - val_accuracy: 0.5800\n",
            "Epoch 21/50\n",
            "50/50 [==============================] - 18s 364ms/step - loss: 0.3539 - accuracy: 0.8454 - val_loss: 0.6092 - val_accuracy: 0.7475\n",
            "Epoch 22/50\n",
            "50/50 [==============================] - 18s 365ms/step - loss: 0.3150 - accuracy: 0.8736 - val_loss: 0.6771 - val_accuracy: 0.7175\n",
            "Epoch 23/50\n",
            "50/50 [==============================] - 18s 365ms/step - loss: 0.2781 - accuracy: 0.8842 - val_loss: 1.5831 - val_accuracy: 0.4275\n",
            "Epoch 24/50\n",
            "50/50 [==============================] - 18s 365ms/step - loss: 0.3124 - accuracy: 0.8636 - val_loss: 1.9398 - val_accuracy: 0.4475\n",
            "Epoch 25/50\n",
            "50/50 [==============================] - 18s 364ms/step - loss: 0.2549 - accuracy: 0.9024 - val_loss: 1.8033 - val_accuracy: 0.3925\n",
            "Epoch 26/50\n",
            "50/50 [==============================] - 18s 364ms/step - loss: 0.1927 - accuracy: 0.9237 - val_loss: 1.4754 - val_accuracy: 0.5400\n",
            "Epoch 27/50\n",
            "50/50 [==============================] - 18s 365ms/step - loss: 0.1769 - accuracy: 0.9305 - val_loss: 1.6398 - val_accuracy: 0.4800\n",
            "Epoch 28/50\n",
            "50/50 [==============================] - 18s 365ms/step - loss: 0.1719 - accuracy: 0.9330 - val_loss: 1.5524 - val_accuracy: 0.5275\n",
            "Epoch 29/50\n",
            "50/50 [==============================] - 18s 364ms/step - loss: 0.1458 - accuracy: 0.9368 - val_loss: 2.0063 - val_accuracy: 0.4700\n",
            "Epoch 30/50\n",
            "50/50 [==============================] - 18s 364ms/step - loss: 0.1567 - accuracy: 0.9368 - val_loss: 3.6283 - val_accuracy: 0.2675\n",
            "Epoch 31/50\n",
            "50/50 [==============================] - 18s 366ms/step - loss: 0.1795 - accuracy: 0.9287 - val_loss: 1.5083 - val_accuracy: 0.6100\n",
            "Epoch 32/50\n",
            "50/50 [==============================] - 18s 365ms/step - loss: 0.1109 - accuracy: 0.9537 - val_loss: 2.5107 - val_accuracy: 0.3625\n",
            "Epoch 33/50\n",
            "50/50 [==============================] - 18s 364ms/step - loss: 0.1229 - accuracy: 0.9537 - val_loss: 1.5386 - val_accuracy: 0.6375\n",
            "Epoch 34/50\n",
            "50/50 [==============================] - 18s 365ms/step - loss: 0.0877 - accuracy: 0.9687 - val_loss: 2.1592 - val_accuracy: 0.5000\n",
            "Epoch 35/50\n",
            "50/50 [==============================] - 18s 365ms/step - loss: 0.0877 - accuracy: 0.9631 - val_loss: 1.5713 - val_accuracy: 0.6200\n",
            "Epoch 36/50\n",
            "50/50 [==============================] - 18s 365ms/step - loss: 0.1273 - accuracy: 0.9543 - val_loss: 2.3856 - val_accuracy: 0.4500\n",
            "Epoch 37/50\n",
            "50/50 [==============================] - 18s 365ms/step - loss: 0.0791 - accuracy: 0.9706 - val_loss: 1.8543 - val_accuracy: 0.5375\n",
            "Epoch 38/50\n",
            "50/50 [==============================] - 18s 365ms/step - loss: 0.1474 - accuracy: 0.9418 - val_loss: 2.3859 - val_accuracy: 0.4675\n",
            "Epoch 39/50\n",
            "50/50 [==============================] - 18s 363ms/step - loss: 0.0736 - accuracy: 0.9706 - val_loss: 2.4121 - val_accuracy: 0.4675\n",
            "Epoch 40/50\n",
            "50/50 [==============================] - 18s 363ms/step - loss: 0.0418 - accuracy: 0.9894 - val_loss: 2.9936 - val_accuracy: 0.4775\n",
            "Epoch 41/50\n",
            "50/50 [==============================] - 18s 365ms/step - loss: 0.0287 - accuracy: 0.9912 - val_loss: 2.7170 - val_accuracy: 0.4850\n",
            "Epoch 42/50\n",
            "50/50 [==============================] - 18s 366ms/step - loss: 0.0266 - accuracy: 0.9894 - val_loss: 3.0010 - val_accuracy: 0.4350\n",
            "Epoch 43/50\n",
            "50/50 [==============================] - 18s 366ms/step - loss: 0.0499 - accuracy: 0.9806 - val_loss: 2.3479 - val_accuracy: 0.5525\n",
            "Epoch 44/50\n",
            "50/50 [==============================] - 18s 364ms/step - loss: 0.1017 - accuracy: 0.9712 - val_loss: 2.3223 - val_accuracy: 0.4950\n",
            "Epoch 45/50\n",
            "50/50 [==============================] - 18s 364ms/step - loss: 0.1288 - accuracy: 0.9549 - val_loss: 3.3499 - val_accuracy: 0.3700\n",
            "Epoch 46/50\n",
            "50/50 [==============================] - 18s 363ms/step - loss: 0.0451 - accuracy: 0.9844 - val_loss: 1.5735 - val_accuracy: 0.6125\n",
            "Epoch 47/50\n",
            "50/50 [==============================] - 18s 364ms/step - loss: 0.0397 - accuracy: 0.9856 - val_loss: 2.1884 - val_accuracy: 0.5500\n",
            "Epoch 48/50\n",
            "50/50 [==============================] - 18s 364ms/step - loss: 0.0298 - accuracy: 0.9894 - val_loss: 1.9875 - val_accuracy: 0.5750\n",
            "Epoch 49/50\n",
            "50/50 [==============================] - 18s 364ms/step - loss: 0.0456 - accuracy: 0.9844 - val_loss: 4.4813 - val_accuracy: 0.3500\n",
            "Epoch 50/50\n",
            "50/50 [==============================] - 18s 365ms/step - loss: 0.1128 - accuracy: 0.9574 - val_loss: 3.0770 - val_accuracy: 0.4150\n"
          ]
        }
      ]
    },
    {
      "cell_type": "code",
      "source": [
        "plt.plot(history.history['accuracy'])\n",
        "plt.plot(history.history['val_accuracy'])\n",
        "plt.title('model accuracy')\n",
        "plt.ylabel('accuracy')\n",
        "plt.xlabel('epoch')\n",
        "plt.legend(['train', 'val'], loc='upper left')\n",
        "plt.show()"
      ],
      "metadata": {
        "id": "uqgNVqMkTZrv",
        "colab": {
          "base_uri": "https://localhost:8080/",
          "height": 295
        },
        "outputId": "f40aaa4f-d2f1-423c-f98c-679dac1e1ca6"
      },
      "execution_count": 35,
      "outputs": [
        {
          "output_type": "display_data",
          "data": {
            "text/plain": [
              "<Figure size 432x288 with 1 Axes>"
            ],
            "image/png": "[encoded data removed]"
          },
          "metadata": {
            "needs_background": "light"
          }
        }
      ]
    },
    {
      "cell_type": "code",
      "source": [
        "plt.plot(history.history['loss'])\n",
        "plt.plot(history.history['val_loss'])\n",
        "plt.title('model loss')\n",
        "plt.ylabel('loss')\n",
        "plt.xlabel('epoch')\n",
        "plt.legend(['train', 'val'], loc='upper left')\n",
        "plt.show()"
      ],
      "metadata": {
        "id": "3rd6_aumVGiY",
        "colab": {
          "base_uri": "https://localhost:8080/",
          "height": 295
        },
        "outputId": "82a8a5a8-5002-4c18-fe1b-45a4e1cbeda8"
      },
      "execution_count": 36,
      "outputs": [
        {
          "output_type": "display_data",
          "data": {
            "text/plain": [
              "<Figure size 432x288 with 1 Axes>"
            ],
            "image/png": "[encoded data removed]"
          },
          "metadata": {
            "needs_background": "light"
          }
        }
      ]
    },
    {
      "cell_type": "code",
      "source": [
        "preds = model.evaluate(X_test, Y_test)\n",
        "print (\"Loss = \" + str(preds[0]))\n",
        "print (\"Test Accuracy = \" + str(preds[1]))"
      ],
      "metadata": {
        "id": "qpoNc7hTEjzd",
        "colab": {
          "base_uri": "https://localhost:8080/"
        },
        "outputId": "55b4cdf7-8c79-439c-a96e-b18c51163665"
      },
      "execution_count": 37,
      "outputs": [
        {
          "output_type": "stream",
          "name": "stdout",
          "text": [
            "32/32 [==============================] - 3s 100ms/step - loss: 2.0551 - accuracy: 0.5541\n",
            "Loss = 2.055114269256592\n",
            "Test Accuracy = 0.554108202457428\n"
          ]
        }
      ]
    }
  ]
}